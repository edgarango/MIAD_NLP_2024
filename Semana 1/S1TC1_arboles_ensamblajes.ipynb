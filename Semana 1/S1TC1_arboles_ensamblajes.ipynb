{
 "cells": [
  {
   "cell_type": "markdown",
   "metadata": {},
   "source": [
    "![image info](https://raw.githubusercontent.com/albahnsen/MIAD_ML_and_NLP/main/images/banner_1.png)"
   ]
  },
  {
   "cell_type": "markdown",
   "metadata": {},
   "source": [
    "# Taller: Construcción e implementación de árboles de decisión y métodos de ensamblaje\n",
    "\n",
    "En este taller podrá poner en práctica los sus conocimientos sobre construcción e implementación de árboles de decisión y métodos de ensamblajes. El taller está constituido por 9 puntos, 5 relacionados con árboles de decisión (parte A) y 4 con métodos de ensamblaje (parte B)."
   ]
  },
  {
   "cell_type": "markdown",
   "metadata": {},
   "source": [
    "## Parte A - Árboles de decisión\n",
    "\n",
    "En esta parte del taller se usará el conjunto de datos de Capital Bikeshare de Kaggle, donde cada observación representa el alquiler de bicicletas durante una hora y día determinado. Para más detalles puede visitar los siguientes enlaces: [datos](https://archive.ics.uci.edu/ml/machine-learning-databases/00275/Bike-Sharing-Dataset.zip), [dicccionario de datos](https://archive.ics.uci.edu/ml/datasets/Bike+Sharing+Dataset#)."
   ]
  },
  {
   "cell_type": "markdown",
   "metadata": {},
   "source": [
    "### Datos prestamo de bicicletas"
   ]
  },
  {
   "cell_type": "code",
   "execution_count": 23,
   "metadata": {},
   "outputs": [],
   "source": [
    "import warnings\n",
    "warnings.filterwarnings('ignore')"
   ]
  },
  {
   "cell_type": "code",
   "execution_count": 24,
   "metadata": {},
   "outputs": [],
   "source": [
    "# Importación de librerías\n",
    "%matplotlib inline\n",
    "import pandas as pd\n",
    "import numpy as np\n",
    "from sklearn.model_selection import cross_val_score\n",
    "from sklearn.linear_model import LinearRegression\n",
    "from sklearn.tree import DecisionTreeRegressor, export_graphviz"
   ]
  },
  {
   "cell_type": "code",
   "execution_count": 25,
   "metadata": {},
   "outputs": [
    {
     "data": {
      "text/html": [
       "<div>\n",
       "<style scoped>\n",
       "    .dataframe tbody tr th:only-of-type {\n",
       "        vertical-align: middle;\n",
       "    }\n",
       "\n",
       "    .dataframe tbody tr th {\n",
       "        vertical-align: top;\n",
       "    }\n",
       "\n",
       "    .dataframe thead th {\n",
       "        text-align: right;\n",
       "    }\n",
       "</style>\n",
       "<table border=\"1\" class=\"dataframe\">\n",
       "  <thead>\n",
       "    <tr style=\"text-align: right;\">\n",
       "      <th></th>\n",
       "      <th>season</th>\n",
       "      <th>holiday</th>\n",
       "      <th>workingday</th>\n",
       "      <th>weather</th>\n",
       "      <th>temp</th>\n",
       "      <th>atemp</th>\n",
       "      <th>humidity</th>\n",
       "      <th>windspeed</th>\n",
       "      <th>casual</th>\n",
       "      <th>registered</th>\n",
       "      <th>total</th>\n",
       "      <th>hour</th>\n",
       "    </tr>\n",
       "    <tr>\n",
       "      <th>datetime</th>\n",
       "      <th></th>\n",
       "      <th></th>\n",
       "      <th></th>\n",
       "      <th></th>\n",
       "      <th></th>\n",
       "      <th></th>\n",
       "      <th></th>\n",
       "      <th></th>\n",
       "      <th></th>\n",
       "      <th></th>\n",
       "      <th></th>\n",
       "      <th></th>\n",
       "    </tr>\n",
       "  </thead>\n",
       "  <tbody>\n",
       "    <tr>\n",
       "      <th>2011-01-01 00:00:00</th>\n",
       "      <td>1</td>\n",
       "      <td>0</td>\n",
       "      <td>0</td>\n",
       "      <td>1</td>\n",
       "      <td>9.84</td>\n",
       "      <td>14.395</td>\n",
       "      <td>81</td>\n",
       "      <td>0.0</td>\n",
       "      <td>3</td>\n",
       "      <td>13</td>\n",
       "      <td>16</td>\n",
       "      <td>0</td>\n",
       "    </tr>\n",
       "    <tr>\n",
       "      <th>2011-01-01 01:00:00</th>\n",
       "      <td>1</td>\n",
       "      <td>0</td>\n",
       "      <td>0</td>\n",
       "      <td>1</td>\n",
       "      <td>9.02</td>\n",
       "      <td>13.635</td>\n",
       "      <td>80</td>\n",
       "      <td>0.0</td>\n",
       "      <td>8</td>\n",
       "      <td>32</td>\n",
       "      <td>40</td>\n",
       "      <td>1</td>\n",
       "    </tr>\n",
       "    <tr>\n",
       "      <th>2011-01-01 02:00:00</th>\n",
       "      <td>1</td>\n",
       "      <td>0</td>\n",
       "      <td>0</td>\n",
       "      <td>1</td>\n",
       "      <td>9.02</td>\n",
       "      <td>13.635</td>\n",
       "      <td>80</td>\n",
       "      <td>0.0</td>\n",
       "      <td>5</td>\n",
       "      <td>27</td>\n",
       "      <td>32</td>\n",
       "      <td>2</td>\n",
       "    </tr>\n",
       "    <tr>\n",
       "      <th>2011-01-01 03:00:00</th>\n",
       "      <td>1</td>\n",
       "      <td>0</td>\n",
       "      <td>0</td>\n",
       "      <td>1</td>\n",
       "      <td>9.84</td>\n",
       "      <td>14.395</td>\n",
       "      <td>75</td>\n",
       "      <td>0.0</td>\n",
       "      <td>3</td>\n",
       "      <td>10</td>\n",
       "      <td>13</td>\n",
       "      <td>3</td>\n",
       "    </tr>\n",
       "    <tr>\n",
       "      <th>2011-01-01 04:00:00</th>\n",
       "      <td>1</td>\n",
       "      <td>0</td>\n",
       "      <td>0</td>\n",
       "      <td>1</td>\n",
       "      <td>9.84</td>\n",
       "      <td>14.395</td>\n",
       "      <td>75</td>\n",
       "      <td>0.0</td>\n",
       "      <td>0</td>\n",
       "      <td>1</td>\n",
       "      <td>1</td>\n",
       "      <td>4</td>\n",
       "    </tr>\n",
       "  </tbody>\n",
       "</table>\n",
       "</div>"
      ],
      "text/plain": [
       "                     season  holiday  workingday  weather  temp   atemp  \\\n",
       "datetime                                                                  \n",
       "2011-01-01 00:00:00       1        0           0        1  9.84  14.395   \n",
       "2011-01-01 01:00:00       1        0           0        1  9.02  13.635   \n",
       "2011-01-01 02:00:00       1        0           0        1  9.02  13.635   \n",
       "2011-01-01 03:00:00       1        0           0        1  9.84  14.395   \n",
       "2011-01-01 04:00:00       1        0           0        1  9.84  14.395   \n",
       "\n",
       "                     humidity  windspeed  casual  registered  total  hour  \n",
       "datetime                                                                   \n",
       "2011-01-01 00:00:00        81        0.0       3          13     16     0  \n",
       "2011-01-01 01:00:00        80        0.0       8          32     40     1  \n",
       "2011-01-01 02:00:00        80        0.0       5          27     32     2  \n",
       "2011-01-01 03:00:00        75        0.0       3          10     13     3  \n",
       "2011-01-01 04:00:00        75        0.0       0           1      1     4  "
      ]
     },
     "execution_count": 25,
     "metadata": {},
     "output_type": "execute_result"
    }
   ],
   "source": [
    "# Lectura de la información de archivo .csv\n",
    "bikes = pd.read_csv('https://raw.githubusercontent.com/davidzarruk/MIAD_ML_NLP_2023/main/datasets/bikeshare.csv', index_col='datetime', parse_dates=True)\n",
    "\n",
    "# Renombrar variable \"count\" a \"total\"\n",
    "bikes.rename(columns={'count':'total'}, inplace=True)\n",
    "\n",
    "# Crear la hora como una variable \n",
    "bikes['hour'] = bikes.index.hour\n",
    "\n",
    "# Visualización de los datos\n",
    "bikes.head()"
   ]
  },
  {
   "cell_type": "markdown",
   "metadata": {},
   "source": [
    "### Punto 1 - Análisis descriptivo\n",
    "\n",
    "Ejecute las celdas 1.1 y 1.2. A partir de los resultados realice un análisis descriptivo sobre las variables \"season\" y \"hour\", escriba sus inferencias sobre los datos. Para complementar su análisis puede usar métricas como máximo, mínimo, percentiles entre otros."
   ]
  },
  {
   "cell_type": "code",
   "execution_count": 26,
   "metadata": {},
   "outputs": [
    {
     "name": "stdout",
     "output_type": "stream",
     "text": [
      "         count        mean         std  min   25%    50%    75%    max\n",
      "season                                                                \n",
      "1       2686.0  116.343261  125.273974  1.0  24.0   78.0  164.0  801.0\n",
      "2       2733.0  215.251372  192.007843  1.0  49.0  172.0  321.0  873.0\n",
      "3       2733.0  234.417124  197.151001  1.0  68.0  195.0  347.0  977.0\n",
      "4       2734.0  198.988296  177.622409  1.0  51.0  161.0  294.0  948.0\n"
     ]
    }
   ],
   "source": [
    "# Celda 1.1\n",
    "bikes.groupby('season').total.mean()\n",
    "season_stadistic = bikes.groupby('season')['total'].describe()\n",
    "print(season_stadistic)"
   ]
  },
  {
   "cell_type": "code",
   "execution_count": 27,
   "metadata": {
    "scrolled": true
   },
   "outputs": [
    {
     "name": "stdout",
     "output_type": "stream",
     "text": [
      "      count        mean         std   min     25%    50%     75%    max\n",
      "hour                                                                   \n",
      "0     455.0   55.138462   43.620012   2.0   24.00   41.0   74.50  283.0\n",
      "1     454.0   33.859031   34.112105   1.0   11.00   19.0   46.00  168.0\n",
      "2     448.0   22.899554   26.110267   1.0    5.00   11.0   32.00  119.0\n",
      "3     433.0   11.757506   12.666442   1.0    3.00    6.0   15.00   66.0\n",
      "4     442.0    6.407240    4.217633   1.0    3.00    6.0    9.00   28.0\n",
      "5     452.0   19.767699   12.784293   1.0    8.00   19.0   29.00   57.0\n",
      "6     455.0   76.259341   54.745333   1.0   24.50   75.0  118.00  213.0\n",
      "7     455.0  213.116484  159.207044   1.0   63.00  208.0  334.00  596.0\n",
      "8     455.0  362.769231  231.723065   8.0  133.50  392.0  563.50  839.0\n",
      "9     455.0  221.780220   92.099209  14.0  161.00  217.0  294.50  414.0\n",
      "10    455.0  175.092308  101.807629  17.0  106.00  149.0  218.50  539.0\n",
      "11    455.0  210.674725  127.444294  10.0  123.00  183.0  265.50  647.0\n",
      "12    456.0  256.508772  143.881880   3.0  157.00  234.5  332.00  757.0\n",
      "13    456.0  257.787281  149.167185  11.0  154.00  226.5  329.00  729.0\n",
      "14    456.0  243.442982  147.563199  12.0  144.00  212.0  311.25  730.0\n",
      "15    456.0  254.298246  144.235670   7.0  154.00  232.0  331.00  724.0\n",
      "16    456.0  316.372807  145.664786  11.0  211.75  309.5  421.00  783.0\n",
      "17    456.0  468.765351  223.775485  15.0  277.00  480.5  608.50  970.0\n",
      "18    456.0  430.859649  219.908138  23.0  240.75  422.5  564.00  977.0\n",
      "19    456.0  315.278509  156.641732  11.0  190.00  312.5  416.00  743.0\n",
      "20    456.0  228.517544  116.411565  11.0  136.75  224.0  302.00  551.0\n",
      "21    456.0  173.370614   87.629319   6.0  103.50  171.5  230.00  584.0\n",
      "22    456.0  133.576754   69.844495   9.0   80.00  129.0  175.00  502.0\n",
      "23    456.0   89.508772   51.638004   4.0   52.75   80.0  123.00  256.0\n"
     ]
    }
   ],
   "source": [
    "# Celda 1.2\n",
    "bikes.groupby('hour').total.mean()\n",
    "hour_stadistic = bikes.groupby('hour')['total'].describe()\n",
    "print(hour_stadistic)"
   ]
  },
  {
   "cell_type": "markdown",
   "metadata": {},
   "source": [
    "La demanda de alquiler de bicicletas es mayor durante el verano y menor durante el invierno que puede estar relacionado con las condiciones climaticas.\n",
    "Hay un claro patrón diario en el alquiler de bicicletas, con picos durante las horas de inicio y fin de la jornada laboral.\n",
    "La desviación estándar es mayor durante las horas pico, pueder ser por fines de semana o clima."
   ]
  },
  {
   "cell_type": "markdown",
   "metadata": {},
   "source": [
    "### Punto 2 - Análisis de gráficos\n",
    "\n",
    "Primero ejecute la celda 2.1 y asegúrese de comprender el código y el resultado. Luego, en cada una de celdas 2.2 y 2.3 escriba un código que genere una gráfica del número de bicicletas rentadas promedio para cada valor de la variable \"hour\" (hora) cuando la variable \"season\" es igual a 1 (invierno) e igual a 3 (verano), respectivamente. Analice y escriba sus hallazgos."
   ]
  },
  {
   "cell_type": "code",
   "execution_count": 28,
   "metadata": {},
   "outputs": [
    {
     "data": {
      "text/plain": [
       "<Axes: xlabel='hour'>"
      ]
     },
     "execution_count": 28,
     "metadata": {},
     "output_type": "execute_result"
    },
    {
     "data": {
      "image/png": "[encoded data removed]",
      "text/plain": [
       "<Figure size 640x480 with 1 Axes>"
      ]
     },
     "metadata": {},
     "output_type": "display_data"
    }
   ],
   "source": [
    "# Celda 2.1 - rentas promedio para cada valor de la variable \"hour\"\n",
    "bikes.groupby('hour').total.mean().plot()"
   ]
  },
  {
   "cell_type": "code",
   "execution_count": 29,
   "metadata": {},
   "outputs": [
    {
     "data": {
      "image/png": "[encoded data removed]",
      "text/plain": [
       "<Figure size 640x480 with 1 Axes>"
      ]
     },
     "metadata": {},
     "output_type": "display_data"
    }
   ],
   "source": [
    "# Celda 2.2 - \"season\"=1 escriba su código y hallazgos \n",
    "import matplotlib.pyplot as plt\n",
    "season1_bikes = bikes[bikes['season'] == 1]\n",
    "# Agrupar por hora y calcular la media de bicicletas rentadas, luego graficar\n",
    "season1_bikes.groupby('hour').total.mean().plot()\n",
    "plt.title('Season 1 promedio bicys alquiladas')\n",
    "plt.xlabel('Hora del día')\n",
    "plt.ylabel('Promedio bicicletas rentadas')\n",
    "plt.show()"
   ]
  },
  {
   "cell_type": "code",
   "execution_count": 30,
   "metadata": {},
   "outputs": [
    {
     "data": {
      "image/png": "[encoded data removed]",
      "text/plain": [
       "<Figure size 640x480 with 1 Axes>"
      ]
     },
     "metadata": {},
     "output_type": "display_data"
    }
   ],
   "source": [
    "# Celda 2.3 - \"season\"=3 escriba su código y hallazgos \n",
    "season3_bikes = bikes[bikes['season'] == 3]\n",
    "# Agrupar por hora y calcular la media de bicicletas rentadas, luego graficar\n",
    "season3_bikes.groupby('hour').total.mean().plot()\n",
    "plt.title('Season 3 promedio bicys alquiladas')\n",
    "plt.xlabel('Hora del día')\n",
    "plt.ylabel('Promedio bicicletas rentadas')\n",
    "plt.show()"
   ]
  },
  {
   "cell_type": "markdown",
   "metadata": {},
   "source": [
    "Durante el verano, el número promedio de bicicletas rentadas es generalmente más alto en comparación con el invierno, lo que podría deberse a un clima más favorable.\n",
    "\n",
    "Los picos de alquiler pueden variar entre estaciones. Por ejemplo, en verano, podrías ver un uso más extendido a lo largo del día, mientras que en invierno los picos podrían ser más pronunciados en horas específicas, posiblemente vinculadas al desplazamiento al trabajo o la escuela."
   ]
  },
  {
   "cell_type": "markdown",
   "metadata": {},
   "source": [
    "### Punto 3 - Regresión lineal\n",
    "En la celda 3 ajuste un modelo de regresión lineal a todo el conjunto de datos, utilizando \"total\" como variable de respuesta y \"season\" y \"hour\" como las únicas variables predictoras, teniendo en cuenta que la variable \"season\" es categórica. Luego, imprima los coeficientes e interprételos. ¿Cuáles son las limitaciones de la regresión lineal en este caso?"
   ]
  },
  {
   "cell_type": "code",
   "execution_count": 39,
   "metadata": {},
   "outputs": [
    {
     "name": "stdout",
     "output_type": "stream",
     "text": [
      "    Feature  Coefficient\n",
      "0      hour    10.545206\n",
      "1  season_2   100.317232\n",
      "2  season_3   119.467550\n",
      "3  season_4    84.083118\n"
     ]
    }
   ],
   "source": [
    "from sklearn.linear_model import LinearRegression\n",
    "# Crear variables dummy para 'season' porque es una variable categórica\n",
    "bikes_dummy = pd.get_dummies(bikes, columns=['season'], drop_first=True)\n",
    "# Definir las variables predictoras y la variable de respuesta\n",
    "X = bikes_dummy[['hour', 'season_2', 'season_3', 'season_4']]  # 'season_1' es la categoría de referencia\n",
    "y = bikes_dummy['total']\n",
    "# Ajustar el modelo de regresión lineal\n",
    "lm = LinearRegression()\n",
    "lm.fit(X, y)\n",
    "# Imprimir los coeficientes\n",
    "coefficients = pd.DataFrame({'Feature': X.columns, 'Coefficient': lm.coef_})\n",
    "print(coefficients)"
   ]
  },
  {
   "cell_type": "markdown",
   "metadata": {},
   "source": [
    "### Punto 4 - Árbol de decisión manual\n",
    "En la celda 4 cree un árbol de decisiones para pronosticar la variable \"total\" iterando **manualmente** sobre las variables \"hour\" y  \"season\". El árbol debe tener al menos 6 nodos finales."
   ]
  },
  {
   "cell_type": "code",
   "execution_count": 34,
   "metadata": {},
   "outputs": [
    {
     "name": "stdout",
     "output_type": "stream",
     "text": [
      "Mejor característica para dividir: hour\n",
      "Mejor valor para dividir: 6\n",
      "Ganancia de la división: 22567.731076849588\n",
      "MSE: 67248.05732133015\n"
     ]
    }
   ],
   "source": [
    "from sklearn.metrics import mean_squared_error\n",
    "# función para calcular MSE\n",
    "def mse(y_true, y_pred):\n",
    "    return np.mean((y_true - y_pred) ** 2)\n",
    "\n",
    "# Función calcular el mejor punto de division\n",
    "def best_split(X, y, features):\n",
    "    best_mse = np.inf\n",
    "    best_feature = None\n",
    "    best_value = None\n",
    "    \n",
    "    for feature in features:\n",
    "        unique_values = X[feature].unique()\n",
    "        for value in unique_values:\n",
    "            left_mask = X[feature] <= value\n",
    "            right_mask = X[feature] > value\n",
    "            \n",
    "            y_left, y_right = y[left_mask], y[right_mask]\n",
    "            mse_left, mse_right = mse(y_left, y_left.mean()), mse(y_right, y_right.mean())\n",
    "            \n",
    "            mse_split = (len(y_left) * mse_left + len(y_right) * mse_right) / len(y)\n",
    "            \n",
    "            if mse_split < best_mse:\n",
    "                best_mse = mse_split\n",
    "                best_feature = feature\n",
    "                best_value = value\n",
    "    \n",
    "    return best_feature, best_value, best_mse\n",
    "\n",
    "# Construir el árbol de decisión\n",
    "def tree_grow(X, y, depth=0, max_depth=3):\n",
    "    if depth >= max_depth or len(X) <= 1:\n",
    "        return {'value': y.mean()}\n",
    "    \n",
    "    feature, value, mse = best_split(X, y, X.columns)\n",
    "    node = {'feature': feature, 'value': value, 'mse': mse}\n",
    "    \n",
    "    left_mask = X[feature] <= value\n",
    "    right_mask = X[feature] > value\n",
    "    X_left, y_left = X[left_mask], y[left_mask]\n",
    "    X_right, y_right = X[right_mask], y[right_mask]\n",
    "    \n",
    "    node['left'] = tree_grow(X_left, y_left, depth + 1, max_depth)\n",
    "    node['right'] = tree_grow(X_right, y_right, depth + 1, max_depth)\n",
    "    \n",
    "    return node\n",
    "\n",
    "# predicciones con el árbol\n",
    "def tree_predict(observation, node):\n",
    "    if 'value' in node:\n",
    "        return node['value']\n",
    "    \n",
    "    if observation[node['feature']] <= node['value']:\n",
    "        return tree_predict(observation, node['left'])\n",
    "    else:\n",
    "        return tree_predict(observation, node['right'])\n",
    "\n",
    "# Construir arbol\n",
    "tree = tree_grow(bikes[['hour', 'season']], bikes['total'], max_depth=3)\n",
    "\n",
    "# Aplicar la función de predicción al conjunto de datos\n",
    "bikes['predicted'] = bikes.apply(lambda row: tree_predict(row, tree), axis=1)\n",
    "\n",
    "# Definimos las características y la variable objetivo\n",
    "X = bikes[['hour', 'season']]\n",
    "y = bikes['total']\n",
    "\n",
    "# Calculamos la mejor partición utilizando la función best_split\n",
    "j, split, gain = best_split(X, y, X.columns)\n",
    "\n",
    "# Mostramos la mejor partición\n",
    "print(f\"Mejor característica para dividir: {j}\")\n",
    "print(f\"Mejor valor para dividir: {split}\")\n",
    "print(f\"Ganancia de la división: {gain}\")\n",
    "# Calcular y mostrar el MSE\n",
    "mse_value = mean_squared_error(bikes['total'], bikes['predicted'])\n",
    "print(f\"MSE: {mse_value}\")\n"
   ]
  },
  {
   "cell_type": "markdown",
   "metadata": {},
   "source": [
    "### Punto 5 - Árbol de decisión con librería\n",
    "En la celda 5 entrene un árbol de decisiones con la **librería sklearn**, usando las variables predictoras \"season\" y \"hour\" y calibre los parámetros que considere conveniente para obtener un mejor desempeño. Recuerde dividir los datos en conjuntos de entrenamiento y validación para esto. Comente el desempeño del modelo con alguna métrica de desempeño de modelos de regresión y compare desempeño con el modelo del punto 3."
   ]
  },
  {
   "cell_type": "code",
   "execution_count": 35,
   "metadata": {},
   "outputs": [
    {
     "data": {
      "image/png": "[encoded data removed]",
      "text/plain": [
       "<Figure size 640x480 with 1 Axes>"
      ]
     },
     "metadata": {},
     "output_type": "display_data"
    },
    {
     "name": "stdout",
     "output_type": "stream",
     "text": [
      "Mejor max_depth: 8 con RMSE: 12704.75788316308\n",
      "  feature  importance\n",
      "1    hour    0.865153\n",
      "0  season    0.134847\n",
      "RMSE en el conjunto de prueba: 117.38356662880372\n"
     ]
    }
   ],
   "source": [
    "from sklearn.model_selection import train_test_split, cross_val_score\n",
    "from sklearn.tree import DecisionTreeRegressor\n",
    "import matplotlib.pyplot as plt\n",
    "\n",
    "# Preparación datos\n",
    "X = bikes[['season', 'hour']]\n",
    "y = bikes['total']\n",
    "\n",
    "# Dividir los datos en conjuntos de entrenamiento y prueba\n",
    "X_train, X_test, y_train, y_test = train_test_split(X, y, test_size=0.3, random_state=42)\n",
    "\n",
    "# Lista de valores para calibrar el criterio de parada de máxima profundidad (max_depth)\n",
    "max_depth_range = range(1, 21)\n",
    "\n",
    "# Lista para guardar los valores del RMSE para cada valor de máxima profundidad\n",
    "rmse_scores = []\n",
    "\n",
    "# Loop para obtener el desempeño del modelo de acuerdo con la máxima profundidad\n",
    "for depth in max_depth_range:\n",
    "    # Definición del árbol de decisión usando DecisionTreeRegressor de sklearn\n",
    "    reg = DecisionTreeRegressor(max_depth=depth, random_state=1)\n",
    "    rmse_scores.append(-cross_val_score(reg, X_train, y_train, cv=10, scoring='neg_mean_squared_error').mean())\n",
    "\n",
    "# Gráfica max_depth vs RMSE\n",
    "plt.plot(max_depth_range, rmse_scores)\n",
    "plt.xlabel('max_depth')\n",
    "plt.ylabel('RMSE')\n",
    "plt.show()\n",
    "\n",
    "# Mejor RMSE y max_depth\n",
    "best_depth = sorted(zip(rmse_scores, max_depth_range))[0][1]\n",
    "print(f\"Mejor max_depth: {best_depth} con RMSE: {sorted(rmse_scores)[0]}\")\n",
    "\n",
    "# Ajustar un árbol usando el mejor valor de max_depth\n",
    "reg = DecisionTreeRegressor(max_depth=best_depth, random_state=1)\n",
    "reg.fit(X_train, y_train)\n",
    "feature_importances = pd.DataFrame({'feature': X_train.columns, 'importance': reg.feature_importances_}).sort_values('importance', ascending=False)\n",
    "print(feature_importances)\n",
    "\n",
    "# Evaluación del modelo en el conjunto de prueba\n",
    "from sklearn.metrics import mean_squared_error\n",
    "\n",
    "y_pred = reg.predict(X_test)\n",
    "rmse = mean_squared_error(y_test, y_pred, squared=False)\n",
    "print(f\"RMSE en el conjunto de prueba: {rmse}\")\n"
   ]
  },
  {
   "cell_type": "markdown",
   "metadata": {},
   "source": [
    "## Parte B - Métodos de ensamblajes\n",
    "En esta parte del taller se usará el conjunto de datos de Popularidad de Noticias Online. El objetivo es predecir si la notica es popular o no, la popularidad está dada por la cantidad de reacciones en redes sociales. Para más detalles puede visitar el siguiente enlace: [datos](https://archive.ics.uci.edu/ml/datasets/online+news+popularity)."
   ]
  },
  {
   "cell_type": "markdown",
   "metadata": {},
   "source": [
    "### Datos popularidad de noticias"
   ]
  },
  {
   "cell_type": "code",
   "execution_count": 40,
   "metadata": {},
   "outputs": [
    {
     "data": {
      "text/html": [
       "<div>\n",
       "<style scoped>\n",
       "    .dataframe tbody tr th:only-of-type {\n",
       "        vertical-align: middle;\n",
       "    }\n",
       "\n",
       "    .dataframe tbody tr th {\n",
       "        vertical-align: top;\n",
       "    }\n",
       "\n",
       "    .dataframe thead th {\n",
       "        text-align: right;\n",
       "    }\n",
       "</style>\n",
       "<table border=\"1\" class=\"dataframe\">\n",
       "  <thead>\n",
       "    <tr style=\"text-align: right;\">\n",
       "      <th></th>\n",
       "      <th>url</th>\n",
       "      <th>timedelta</th>\n",
       "      <th>n_tokens_title</th>\n",
       "      <th>n_tokens_content</th>\n",
       "      <th>n_unique_tokens</th>\n",
       "      <th>n_non_stop_words</th>\n",
       "      <th>n_non_stop_unique_tokens</th>\n",
       "      <th>num_hrefs</th>\n",
       "      <th>num_self_hrefs</th>\n",
       "      <th>num_imgs</th>\n",
       "      <th>...</th>\n",
       "      <th>min_positive_polarity</th>\n",
       "      <th>max_positive_polarity</th>\n",
       "      <th>avg_negative_polarity</th>\n",
       "      <th>min_negative_polarity</th>\n",
       "      <th>max_negative_polarity</th>\n",
       "      <th>title_subjectivity</th>\n",
       "      <th>title_sentiment_polarity</th>\n",
       "      <th>abs_title_subjectivity</th>\n",
       "      <th>abs_title_sentiment_polarity</th>\n",
       "      <th>Popular</th>\n",
       "    </tr>\n",
       "  </thead>\n",
       "  <tbody>\n",
       "    <tr>\n",
       "      <th>0</th>\n",
       "      <td>http://mashable.com/2014/12/10/cia-torture-rep...</td>\n",
       "      <td>28.0</td>\n",
       "      <td>9.0</td>\n",
       "      <td>188.0</td>\n",
       "      <td>0.732620</td>\n",
       "      <td>1.0</td>\n",
       "      <td>0.844262</td>\n",
       "      <td>5.0</td>\n",
       "      <td>1.0</td>\n",
       "      <td>1.0</td>\n",
       "      <td>...</td>\n",
       "      <td>0.200000</td>\n",
       "      <td>0.80</td>\n",
       "      <td>-0.487500</td>\n",
       "      <td>-0.60</td>\n",
       "      <td>-0.250000</td>\n",
       "      <td>0.9</td>\n",
       "      <td>0.8</td>\n",
       "      <td>0.4</td>\n",
       "      <td>0.8</td>\n",
       "      <td>1</td>\n",
       "    </tr>\n",
       "    <tr>\n",
       "      <th>1</th>\n",
       "      <td>http://mashable.com/2013/10/18/bitlock-kicksta...</td>\n",
       "      <td>447.0</td>\n",
       "      <td>7.0</td>\n",
       "      <td>297.0</td>\n",
       "      <td>0.653199</td>\n",
       "      <td>1.0</td>\n",
       "      <td>0.815789</td>\n",
       "      <td>9.0</td>\n",
       "      <td>4.0</td>\n",
       "      <td>1.0</td>\n",
       "      <td>...</td>\n",
       "      <td>0.160000</td>\n",
       "      <td>0.50</td>\n",
       "      <td>-0.135340</td>\n",
       "      <td>-0.40</td>\n",
       "      <td>-0.050000</td>\n",
       "      <td>0.1</td>\n",
       "      <td>-0.1</td>\n",
       "      <td>0.4</td>\n",
       "      <td>0.1</td>\n",
       "      <td>0</td>\n",
       "    </tr>\n",
       "    <tr>\n",
       "      <th>2</th>\n",
       "      <td>http://mashable.com/2013/07/24/google-glass-po...</td>\n",
       "      <td>533.0</td>\n",
       "      <td>11.0</td>\n",
       "      <td>181.0</td>\n",
       "      <td>0.660377</td>\n",
       "      <td>1.0</td>\n",
       "      <td>0.775701</td>\n",
       "      <td>4.0</td>\n",
       "      <td>3.0</td>\n",
       "      <td>1.0</td>\n",
       "      <td>...</td>\n",
       "      <td>0.136364</td>\n",
       "      <td>1.00</td>\n",
       "      <td>0.000000</td>\n",
       "      <td>0.00</td>\n",
       "      <td>0.000000</td>\n",
       "      <td>0.3</td>\n",
       "      <td>1.0</td>\n",
       "      <td>0.2</td>\n",
       "      <td>1.0</td>\n",
       "      <td>0</td>\n",
       "    </tr>\n",
       "    <tr>\n",
       "      <th>3</th>\n",
       "      <td>http://mashable.com/2013/11/21/these-are-the-m...</td>\n",
       "      <td>413.0</td>\n",
       "      <td>12.0</td>\n",
       "      <td>781.0</td>\n",
       "      <td>0.497409</td>\n",
       "      <td>1.0</td>\n",
       "      <td>0.677350</td>\n",
       "      <td>10.0</td>\n",
       "      <td>3.0</td>\n",
       "      <td>1.0</td>\n",
       "      <td>...</td>\n",
       "      <td>0.100000</td>\n",
       "      <td>1.00</td>\n",
       "      <td>-0.195701</td>\n",
       "      <td>-0.40</td>\n",
       "      <td>-0.071429</td>\n",
       "      <td>0.0</td>\n",
       "      <td>0.0</td>\n",
       "      <td>0.5</td>\n",
       "      <td>0.0</td>\n",
       "      <td>0</td>\n",
       "    </tr>\n",
       "    <tr>\n",
       "      <th>4</th>\n",
       "      <td>http://mashable.com/2014/02/11/parking-ticket-...</td>\n",
       "      <td>331.0</td>\n",
       "      <td>8.0</td>\n",
       "      <td>177.0</td>\n",
       "      <td>0.685714</td>\n",
       "      <td>1.0</td>\n",
       "      <td>0.830357</td>\n",
       "      <td>3.0</td>\n",
       "      <td>2.0</td>\n",
       "      <td>1.0</td>\n",
       "      <td>...</td>\n",
       "      <td>0.100000</td>\n",
       "      <td>0.55</td>\n",
       "      <td>-0.175000</td>\n",
       "      <td>-0.25</td>\n",
       "      <td>-0.100000</td>\n",
       "      <td>0.0</td>\n",
       "      <td>0.0</td>\n",
       "      <td>0.5</td>\n",
       "      <td>0.0</td>\n",
       "      <td>0</td>\n",
       "    </tr>\n",
       "  </tbody>\n",
       "</table>\n",
       "<p>5 rows × 61 columns</p>\n",
       "</div>"
      ],
      "text/plain": [
       "                                                 url  timedelta  \\\n",
       "0  http://mashable.com/2014/12/10/cia-torture-rep...       28.0   \n",
       "1  http://mashable.com/2013/10/18/bitlock-kicksta...      447.0   \n",
       "2  http://mashable.com/2013/07/24/google-glass-po...      533.0   \n",
       "3  http://mashable.com/2013/11/21/these-are-the-m...      413.0   \n",
       "4  http://mashable.com/2014/02/11/parking-ticket-...      331.0   \n",
       "\n",
       "   n_tokens_title  n_tokens_content  n_unique_tokens  n_non_stop_words  \\\n",
       "0             9.0             188.0         0.732620               1.0   \n",
       "1             7.0             297.0         0.653199               1.0   \n",
       "2            11.0             181.0         0.660377               1.0   \n",
       "3            12.0             781.0         0.497409               1.0   \n",
       "4             8.0             177.0         0.685714               1.0   \n",
       "\n",
       "   n_non_stop_unique_tokens  num_hrefs  num_self_hrefs  num_imgs  ...  \\\n",
       "0                  0.844262        5.0             1.0       1.0  ...   \n",
       "1                  0.815789        9.0             4.0       1.0  ...   \n",
       "2                  0.775701        4.0             3.0       1.0  ...   \n",
       "3                  0.677350       10.0             3.0       1.0  ...   \n",
       "4                  0.830357        3.0             2.0       1.0  ...   \n",
       "\n",
       "   min_positive_polarity  max_positive_polarity  avg_negative_polarity  \\\n",
       "0               0.200000                   0.80              -0.487500   \n",
       "1               0.160000                   0.50              -0.135340   \n",
       "2               0.136364                   1.00               0.000000   \n",
       "3               0.100000                   1.00              -0.195701   \n",
       "4               0.100000                   0.55              -0.175000   \n",
       "\n",
       "   min_negative_polarity  max_negative_polarity  title_subjectivity  \\\n",
       "0                  -0.60              -0.250000                 0.9   \n",
       "1                  -0.40              -0.050000                 0.1   \n",
       "2                   0.00               0.000000                 0.3   \n",
       "3                  -0.40              -0.071429                 0.0   \n",
       "4                  -0.25              -0.100000                 0.0   \n",
       "\n",
       "   title_sentiment_polarity  abs_title_subjectivity  \\\n",
       "0                       0.8                     0.4   \n",
       "1                      -0.1                     0.4   \n",
       "2                       1.0                     0.2   \n",
       "3                       0.0                     0.5   \n",
       "4                       0.0                     0.5   \n",
       "\n",
       "   abs_title_sentiment_polarity  Popular  \n",
       "0                           0.8        1  \n",
       "1                           0.1        0  \n",
       "2                           1.0        0  \n",
       "3                           0.0        0  \n",
       "4                           0.0        0  \n",
       "\n",
       "[5 rows x 61 columns]"
      ]
     },
     "execution_count": 40,
     "metadata": {},
     "output_type": "execute_result"
    }
   ],
   "source": [
    "# Lectura de la información de archivo .csv\n",
    "df = pd.read_csv('https://raw.githubusercontent.com/davidzarruk/MIAD_ML_NLP_2023/main/datasets/mashable.csv', index_col=0)\n",
    "df.head()"
   ]
  },
  {
   "cell_type": "code",
   "execution_count": 41,
   "metadata": {},
   "outputs": [
    {
     "data": {
      "text/plain": [
       "0.5"
      ]
     },
     "execution_count": 41,
     "metadata": {},
     "output_type": "execute_result"
    }
   ],
   "source": [
    "# Definición variable de interes y variables predictoras\n",
    "X = df.drop(['url', 'Popular'], axis=1)\n",
    "y = df['Popular']\n",
    "y.mean()"
   ]
  },
  {
   "cell_type": "code",
   "execution_count": 42,
   "metadata": {},
   "outputs": [],
   "source": [
    "# División de la muestra en set de entrenamiento y prueba\n",
    "from sklearn.model_selection import train_test_split\n",
    "X_train, X_test, y_train, y_test = train_test_split(X, y, random_state=1)"
   ]
  },
  {
   "cell_type": "markdown",
   "metadata": {},
   "source": [
    "### Punto 6 - Árbol de decisión y regresión logística\n",
    "En la celda 6 construya un árbol de decisión y una regresión logística. Para el árbol calibre al menos un parámetro y evalúe el desempeño de cada modelo usando las métricas de Accuracy y F1-Score."
   ]
  },
  {
   "cell_type": "code",
   "execution_count": 44,
   "metadata": {},
   "outputs": [
    {
     "name": "stdout",
     "output_type": "stream",
     "text": [
      "Mejor profundidad: 5 Accuracy: 0.6373333333333333 F1-Score: 0.6616915422885572\n",
      "Regresión Logística - Accuracy: 0.6186666666666667, F1-Score: 0.6092896174863388\n"
     ]
    }
   ],
   "source": [
    "from sklearn.tree import DecisionTreeClassifier\n",
    "from sklearn.linear_model import LogisticRegression\n",
    "from sklearn.metrics import accuracy_score, f1_score\n",
    "from sklearn.model_selection import cross_val_score\n",
    "\n",
    "# calibracion de la profundidad máxima\n",
    "max_depth_range = range(1, 21)\n",
    "best_accuracy = 0\n",
    "best_f1 = 0\n",
    "best_depth = 0\n",
    "\n",
    "for depth in max_depth_range:\n",
    "    tree = DecisionTreeClassifier(max_depth=depth, random_state=1)\n",
    "    tree.fit(X_train, y_train)\n",
    "    y_pred = tree.predict(X_test)\n",
    "    accuracy = accuracy_score(y_test, y_pred)\n",
    "    f1 = f1_score(y_test, y_pred)\n",
    "    if accuracy + f1 > best_accuracy + best_f1:\n",
    "        best_accuracy = accuracy\n",
    "        best_f1 = f1\n",
    "        best_depth = depth\n",
    "\n",
    "print(f\"Mejor profundidad: {best_depth} Accuracy: {best_accuracy} F1-Score: {best_f1}\")\n",
    "\n",
    "# Regresión logística\n",
    "logreg = LogisticRegression(max_iter=1000)\n",
    "logreg.fit(X_train, y_train)\n",
    "y_pred_logreg = logreg.predict(X_test)\n",
    "accuracy_logreg = accuracy_score(y_test, y_pred_logreg)\n",
    "f1_logreg = f1_score(y_test, y_pred_logreg)\n",
    "\n",
    "print(f\"Regresión Logística - Accuracy: {accuracy_logreg}, F1-Score: {f1_logreg}\")\n"
   ]
  },
  {
   "cell_type": "markdown",
   "metadata": {},
   "source": [
    "### Punto 7 - Votación Mayoritaria\n",
    "En la celda 7 elabore un esamble con la metodología de **Votación mayoritaria** compuesto por 300 muestras bagged donde:\n",
    "\n",
    "-las primeras 100 muestras vienen de árboles de decisión donde max_depth tome un valor de su elección\\\n",
    "-las segundas 100 muestras vienen de árboles de decisión donde min_samples_leaf tome un valor de su elección\\\n",
    "-las últimas 100 muestras vienen de regresiones logísticas\n",
    "\n",
    "Evalúe cada uno de los tres modelos de manera independiente utilizando las métricas de Accuracy y F1-Score, luego evalúe el ensamble de modelos y compare los resultados. \n",
    "\n",
    "Nota: \n",
    "\n",
    "Para este ensamble de 300 modelos, deben hacer votación mayoritaria. Esto lo pueden hacer de distintas maneras. La más \"fácil\" es haciendo la votación \"manualmente\", como se hace a partir del minuto 5:45 del video de Ejemplo práctico de emsablajes en Coursera. Digo que es la más fácil porque si hacen la votación mayoritaria sobre las 300 predicciones van a obtener lo que se espera.\n",
    "\n",
    "Otra opción es: para cada uno de los 3 tipos de modelos, entrenar un ensamble de 100 modelos cada uno. Predecir para cada uno de esos tres ensambles y luego predecir como un ensamble de los 3 ensambles. La cuestión es que la votación mayoritaria al usar los 3 ensambles no necesariamente va a generar el mismo resultado que si hacen la votación mayoritaria directamente sobre los 300 modelos. Entonces, para los que quieran hacer esto, deben hacer ese último cálculo con cuidado.\n",
    "\n",
    "Para los que quieran hacerlo como ensamble de ensambles, digo que se debe hacer el ensamble final con cuidado por lo siguiente. Supongamos que:\n",
    "\n",
    "* para los 100 árboles del primer tipo, la votación mayoritaria es: 55% de los modelos predicen que la clase de una observación es \"1\"\n",
    "* para los 100 árboles del segundo tipo, la votación mayoritaria es: 55% de los modelos predicen que la clase de una observación es \"1\"\n",
    "* para las 100 regresiones logísticas, la votación mayoritaria es: 10% de los modelos predicen que la clase de una observación es \"1\"\n",
    "\n",
    "Si se hace la votación mayoritaria de los 300 modelos, la predicción de esa observación debería ser: (100*55%+100*55%+100*10%)/300 = 40% de los modelos votan porque la predicción debería ser \"1\". Es decir, la predicción del ensamble es \"0\" (dado que menos del 50% de modelos predijo un 1).\n",
    "\n",
    "Sin embargo, si miramos cada ensamble por separado, el primer ensamble predice \"1\", el segundo ensamble predice \"1\" y el último ensamble predice \"0\". Si hago votación mayoritaria sobre esto, la predicción va a ser \"1\", lo cual es distinto a si se hace la votación mayoritaria sobre los 300 modelos."
   ]
  },
  {
   "cell_type": "code",
   "execution_count": 50,
   "metadata": {},
   "outputs": [
    {
     "name": "stdout",
     "output_type": "stream",
     "text": [
      "Evaluación Árboles de Decisión\n",
      "Accuracy: 0.6446666666666667, F1-Score: 0.6458471760797342\n",
      "Evaluación Regresión Logística:\n",
      "Accuracy: 0.622, F1-Score: 0.6181818181818182\n",
      "Evaluación del Ensamble Completo:\n",
      "Accuracy: 0.658, F1-Score: 0.6595885865958858\n"
     ]
    }
   ],
   "source": [
    "from sklearn.ensemble import BaggingClassifier\n",
    "from sklearn.tree import DecisionTreeClassifier\n",
    "from sklearn.linear_model import LogisticRegression\n",
    "from sklearn.metrics import accuracy_score, f1_score\n",
    "\n",
    "#numero de estimadores\n",
    "n_estimators = 100\n",
    "\n",
    "# arboles de decisión con max_depth fijado\n",
    "tree_ensemble_depth = BaggingClassifier(\n",
    "    DecisionTreeClassifier(max_depth=5), n_estimators=n_estimators, random_state=1, n_jobs=-1)\n",
    "\n",
    "# arboles de decisión con min_samples_leaf fijado\n",
    "tree_ensemble_samples_leaf = BaggingClassifier(\n",
    "    DecisionTreeClassifier(min_samples_leaf=5), n_estimators=n_estimators, random_state=1, n_jobs=-1)\n",
    "\n",
    "#ensamble de regresiones logísticas\n",
    "logreg_ensemble = BaggingClassifier(\n",
    "    LogisticRegression(), n_estimators=n_estimators, random_state=1, n_jobs=-1)\n",
    "\n",
    "# Entrenar los modelos\n",
    "tree_ensemble_depth.fit(X_train, y_train)\n",
    "tree_ensemble_samples_leaf.fit(X_train, y_train)\n",
    "logreg_ensemble.fit(X_train, y_train)\n",
    "\n",
    "# Función para evaluar y mostrar los modelos\n",
    "def evaluate_predictions(y_pred, y_test):\n",
    "    accuracy = accuracy_score(y_test, y_pred)\n",
    "    f1 = f1_score(y_test, y_pred)\n",
    "    print(f\"Accuracy: {accuracy}, F1-Score: {f1}\")\n",
    "\n",
    "# Evaluar cada modelo\n",
    "print(\"Evaluación Árboles de Decisión\")\n",
    "evaluate_model(tree_ensemble_samples_leaf, X_test, y_test)\n",
    "\n",
    "print(\"Evaluación Regresión Logística:\")\n",
    "evaluate_model(logreg_ensemble, X_test, y_test)\n",
    "\n",
    "# Votación mayoritaria para el ensamble completo\n",
    "print(\"Evaluación del Ensamble Completo:\")\n",
    "evaluate_predictions(y_pred_total, y_test)"
   ]
  },
  {
   "cell_type": "markdown",
   "metadata": {},
   "source": [
    "### Punto 8 - Votación Ponderada\n",
    "En la celda 8 elabore un ensamble con la metodología de **Votación ponderada** compuesto por 300 muestras bagged para los mismos tres escenarios del punto 7. Evalúe los modelos utilizando las métricas de Accuracy y F1-Score"
   ]
  },
  {
   "cell_type": "code",
   "execution_count": 52,
   "metadata": {},
   "outputs": [
    {
     "name": "stdout",
     "output_type": "stream",
     "text": [
      "Evaluación del Ensamble con Votación Ponderada:\n",
      "Accuracy: 0.658, F1-Score: 0.6595885865958858\n"
     ]
    }
   ],
   "source": [
    "# Calcula los pesos de entrenamiento\n",
    "weights = []\n",
    "for model in [tree_ensemble_depth, tree_ensemble_samples_leaf, logreg_ensemble]:\n",
    "    y_train_pred = model.predict(X_train)\n",
    "    weights.append(accuracy_score(y_train, y_train_pred))\n",
    "\n",
    "weights = [weight / sum(weights) for weight in weights]\n",
    "\n",
    "# Realiza la votación ponderada\n",
    "y_pred_weighted = (weights[0] * tree_ensemble_depth.predict(X_test) +\n",
    "                   weights[1] * tree_ensemble_samples_leaf.predict(X_test) +\n",
    "                   weights[2] * logreg_ensemble.predict(X_test))\n",
    "\n",
    "# Predicciones ponderadas en clases binarias\n",
    "y_pred_weighted = np.round(y_pred_weighted)\n",
    "\n",
    "# Evaluar el ensamble ponderado\n",
    "print(\"Evaluación del Ensamble con Votación Ponderada:\")\n",
    "evaluate_predictions(y_pred_weighted, y_test)\n"
   ]
  },
  {
   "cell_type": "markdown",
   "metadata": {},
   "source": [
    "### Punto 9 - Comparación y análisis de resultados\n",
    "En la celda 9 comente sobre los resultados obtenidos con las metodologías usadas en los puntos 7 y 8, compare los resultados y enuncie posibles ventajas o desventajas de cada una de ellas."
   ]
  },
  {
   "cell_type": "code",
   "execution_count": 53,
   "metadata": {},
   "outputs": [
    {
     "name": "stdout",
     "output_type": "stream",
     "text": [
      "punto 7 Accuracy: 0.658, F1-Score: 0.6595885865958858\n",
      "punto 8 Accuracy: 0.658, F1-Score: 0.6595885865958858\n"
     ]
    }
   ],
   "source": [
    "# Celda 9\n",
    "print(\"punto 7 Accuracy: 0.658, F1-Score: 0.6595885865958858\")\n",
    "print(\"punto 8 Accuracy: 0.658, F1-Score: 0.6595885865958858\")"
   ]
  },
  {
   "cell_type": "markdown",
   "metadata": {},
   "source": [
    "Los modelos tienen un desempeño relativamente similar, la votación mayoritaria podría ser suficiente y más sencilla de implementar.\n",
    "La votación mayoritaria puede ayudar a evitar el sobreajuste que podría surgir al asignar pesos basados en el desempeño en los datos de entrenamiento."
   ]
  }
 ],
 "metadata": {
  "kernelspec": {
   "display_name": "Python 3 (ipykernel)",
   "language": "python",
   "name": "python3"
  },
  "language_info": {
   "codemirror_mode": {
    "name": "ipython",
    "version": 3
   },
   "file_extension": ".py",
   "mimetype": "text/x-python",
   "name": "python",
   "nbconvert_exporter": "python",
   "pygments_lexer": "ipython3",
   "version": "3.12.2"
  }
 },
 "nbformat": 4,
 "nbformat_minor": 4
}
