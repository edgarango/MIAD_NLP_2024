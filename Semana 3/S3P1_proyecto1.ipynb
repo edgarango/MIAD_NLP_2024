{
 "cells": [
  {
   "cell_type": "markdown",
   "metadata": {},
   "source": [
    "![image info](https://raw.githubusercontent.com/davidzarruk/MIAD_ML_NLP_2023/main/images/banner_1.png)"
   ]
  },
  {
   "cell_type": "markdown",
   "metadata": {},
   "source": [
    "# Proyecto 1 - Predicción de precios de vehículos usados\n",
    "\n",
    "En este proyecto podrán poner en práctica sus conocimientos sobre modelos predictivos basados en árboles y ensambles, y sobre la disponibilización de modelos. Para su desasrrollo tengan en cuenta las instrucciones dadas en la \"Guía del proyecto 1: Predicción de precios de vehículos usados\".\n",
    "\n",
    "**Entrega**: La entrega del proyecto deberán realizarla durante la semana 4. Sin embargo, es importante que avancen en la semana 3 en el modelado del problema y en parte del informe, tal y como se les indicó en la guía.\n",
    "\n",
    "Para hacer la entrega, deberán adjuntar el informe autocontenido en PDF a la actividad de entrega del proyecto que encontrarán en la semana 4, y subir el archivo de predicciones a la [competencia de Kaggle](https://www.kaggle.com/competitions/miad2024-12-prediccion-precio-vehiculos)."
   ]
  },
  {
   "cell_type": "markdown",
   "metadata": {},
   "source": [
    "## Datos para la predicción de precios de vehículos usados\n",
    "\n",
    "En este proyecto se usará el conjunto de datos de Car Listings de Kaggle, donde cada observación representa el precio de un automóvil teniendo en cuenta distintas variables como: año, marca, modelo, entre otras. El objetivo es predecir el precio del automóvil. Para más detalles puede visitar el siguiente enlace: [datos](https://www.kaggle.com/jpayne/852k-used-car-listings)."
   ]
  },
  {
   "cell_type": "markdown",
   "metadata": {},
   "source": [
    "## Ejemplo predicción conjunto de test para envío a Kaggle\n",
    "\n",
    "En esta sección encontrarán el formato en el que deben guardar los resultados de la predicción para que puedan subirlos a la competencia en Kaggle."
   ]
  },
  {
   "cell_type": "code",
   "execution_count": 4,
   "metadata": {},
   "outputs": [
    {
     "name": "stdout",
     "output_type": "stream",
     "text": [
      "Predicciones: [ 9.33667985 10.17184192  9.7132689  ...  9.64727679  9.50757267\n",
      "  9.58924425]\n"
     ]
    }
   ],
   "source": [
    "import pandas as pd\n",
    "import numpy as np\n",
    "from sklearn.model_selection import train_test_split\n",
    "from sklearn.ensemble import RandomForestRegressor\n",
    "from sklearn.preprocessing import LabelEncoder\n",
    "import joblib\n",
    "\n",
    "def load_data():\n",
    "    # Carga de datos\n",
    "    dataTraining = pd.read_csv('https://raw.githubusercontent.com/davidzarruk/MIAD_ML_NLP_2023/main/datasets/dataTrain_carListings.zip')\n",
    "    dataTesting = pd.read_csv('https://raw.githubusercontent.com/davidzarruk/MIAD_ML_NLP_2023/main/datasets/dataTest_carListings.zip', index_col=0)\n",
    "    return dataTraining, dataTesting\n",
    "\n",
    "def preprocess_data(data):\n",
    "    # Copia de datos para preprocesamiento\n",
    "    data_processed = data.copy()\n",
    "    # Ajuste del precio y millaje\n",
    "    data_processed['Price'] = np.log(data_processed['Price'])\n",
    "    data_processed['Mileage'] = np.log(data_processed['Mileage'])\n",
    "    return data_processed\n",
    "\n",
    "def encode_features(X):\n",
    "    # Inicialización de encoders\n",
    "    le_State = LabelEncoder()\n",
    "    le_Make = LabelEncoder()\n",
    "    le_Model = LabelEncoder()\n",
    "    \n",
    "    # Aplicación de encoders\n",
    "    X['State_encoded'] = le_State.fit_transform(X['State'])\n",
    "    X['Make_encoded'] = le_Make.fit_transform(X['Make'])\n",
    "    X['Model_encoded'] = le_Model.fit_transform(X['Model'])\n",
    "\n",
    "    # Guardar encoders para uso futuro\n",
    "    joblib.dump(le_State, 'le_State.pkl')\n",
    "    joblib.dump(le_Make, 'le_Make.pkl')\n",
    "    joblib.dump(le_Model, 'le_Model.pkl')\n",
    "\n",
    "    return X[['Year', 'Mileage', 'State_encoded', 'Make_encoded', 'Model_encoded']], le_State, le_Make, le_Model\n",
    "\n",
    "def train_model(X, y):\n",
    "    # Entrenamiento del modelo RandomForest\n",
    "    reg_RF = RandomForestRegressor(max_features=4, n_estimators=100, max_depth=19, random_state=1, min_samples_split=17, n_jobs=-1)\n",
    "    reg_RF.fit(X, y)\n",
    "\n",
    "    # Guardar el modelo entrenado\n",
    "    joblib.dump(reg_RF, 'model_rf.pkl', compress=6)\n",
    "    return reg_RF\n",
    "\n",
    "def predict_price(X, model):\n",
    "    # Predicción de precios\n",
    "    return model.predict(X)\n",
    "\n",
    "def load_model_and_encoders():\n",
    "    # Cargar modelo y encoders guardados\n",
    "    model = joblib.load('model_rf.pkl')\n",
    "    le_State = joblib.load('le_State.pkl')\n",
    "    le_Make = joblib.load('le_Make.pkl')\n",
    "    le_Model = joblib.load('le_Model.pkl')\n",
    "    return model, le_State, le_Make, le_Model\n",
    "\n",
    "# Ejecución del script para entrenamiento y prueba si se ejecuta como principal\n",
    "if __name__ == \"__main__\":\n",
    "    data_train, data_test = load_data()\n",
    "    data_train_processed = preprocess_data(data_train)\n",
    "    X_train, le_State, le_Make, le_Model = encode_features(data_train_processed[['Year', 'Mileage', 'State', 'Make', 'Model']])\n",
    "    y_train = data_train_processed['Price']\n",
    "\n",
    "    model = train_model(X_train, y_train)\n",
    "    \n",
    "    # Simulación de carga de modelo y encoders para predicción\n",
    "    model_loaded, le_State_loaded, le_Make_loaded, le_Model_loaded = load_model_and_encoders()\n",
    "    X_test, _, _, _ = encode_features(data_test[['Year', 'Mileage', 'State', 'Make', 'Model']])\n",
    "    y_pred = predict_price(X_test, model_loaded)\n",
    "    print(\"Predicciones:\", y_pred)"
   ]
  },
  {
   "cell_type": "code",
   "execution_count": 5,
   "metadata": {},
   "outputs": [
    {
     "name": "stdout",
     "output_type": "stream",
     "text": [
      " * Serving Flask app '__main__'\n",
      " * Debug mode: on\n"
     ]
    },
    {
     "name": "stderr",
     "output_type": "stream",
     "text": [
      "WARNING: This is a development server. Do not use it in a production deployment. Use a production WSGI server instead.\n",
      " * Running on all addresses (0.0.0.0)\n",
      " * Running on http://127.0.0.1:5000\n",
      " * Running on http://192.168.0.3:5000\n",
      "Press CTRL+C to quit\n",
      " * Restarting with stat\n"
     ]
    },
    {
     "ename": "SystemExit",
     "evalue": "1",
     "output_type": "error",
     "traceback": [
      "An exception has occurred, use %tb to see the full traceback.\n",
      "\u001b[1;31mSystemExit\u001b[0m\u001b[1;31m:\u001b[0m 1\n"
     ]
    },
    {
     "name": "stderr",
     "output_type": "stream",
     "text": [
      "c:\\Users\\edgar\\.pyenv\\pyenv-win\\versions\\3.10.5\\lib\\site-packages\\IPython\\core\\interactiveshell.py:3585: UserWarning: To exit: use 'exit', 'quit', or Ctrl-D.\n",
      "  warn(\"To exit: use 'exit', 'quit', or Ctrl-D.\", stacklevel=1)\n"
     ]
    }
   ],
   "source": [
    "from flask import Flask, request, jsonify\n",
    "import pandas as pd\n",
    "import joblib\n",
    "\n",
    "app = Flask(__name__)\n",
    "\n",
    "# Carga del modelo y encoders\n",
    "model = joblib.load('model_rf.pkl')\n",
    "le_State = joblib.load('le_State.pkl')\n",
    "le_Make = joblib.load('le_Make.pkl')\n",
    "le_Model = joblib.load('le_Model.pkl')\n",
    "\n",
    "def preprocess_data(df):\n",
    "    # Aquí deberías incluir la lógica de preprocesamiento aplicada antes del entrenamiento\n",
    "    df['Mileage'] = np.log(df['Mileage'])\n",
    "    return df\n",
    "\n",
    "def encode_features(df):\n",
    "    df['State_encoded'] = le_State.transform(df['State'])\n",
    "    df['Make_encoded'] = le_Make.transform(df['Make'])\n",
    "    df['Model_encoded'] = le_Model.transform(df['Model'])\n",
    "    return df[['Year', 'Mileage', 'State_encoded', 'Make_encoded', 'Model_encoded']]\n",
    "\n",
    "@app.route('/predict', methods=['POST'])\n",
    "def predict():\n",
    "    data = request.get_json(force=True)\n",
    "    df = pd.DataFrame(data, index=[0])\n",
    "\n",
    "    # Preprocesamiento y codificación de características\n",
    "    df_processed = preprocess_data(df)\n",
    "    df_encoded = encode_features(df_processed)\n",
    "    \n",
    "    # Predicción\n",
    "    prediction = model.predict(df_encoded)\n",
    "    \n",
    "    # Devolución de la predicción\n",
    "    return jsonify({'prediction': prediction.tolist()})\n",
    "\n",
    "if __name__ == '__main__':\n",
    "    app.run(debug=True, host='0.0.0.0', port=5000)"
   ]
  }
 ],
 "metadata": {
  "kernelspec": {
   "display_name": "Python 3 (ipykernel)",
   "language": "python",
   "name": "python3"
  },
  "language_info": {
   "codemirror_mode": {
    "name": "ipython",
    "version": 3
   },
   "file_extension": ".py",
   "mimetype": "text/x-python",
   "name": "python",
   "nbconvert_exporter": "python",
   "pygments_lexer": "ipython3",
   "version": "3.10.5"
  }
 },
 "nbformat": 4,
 "nbformat_minor": 4
}
