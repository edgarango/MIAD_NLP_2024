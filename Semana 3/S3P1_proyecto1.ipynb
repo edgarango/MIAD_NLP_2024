{
 "cells": [
  {
   "cell_type": "markdown",
   "metadata": {},
   "source": [
    "![image info](https://raw.githubusercontent.com/davidzarruk/MIAD_ML_NLP_2023/main/images/banner_1.png)"
   ]
  },
  {
   "cell_type": "markdown",
   "metadata": {},
   "source": [
    "# Proyecto 1 - Predicción de precios de vehículos usados\n",
    "\n",
    "En este proyecto podrán poner en práctica sus conocimientos sobre modelos predictivos basados en árboles y ensambles, y sobre la disponibilización de modelos. Para su desasrrollo tengan en cuenta las instrucciones dadas en la \"Guía del proyecto 1: Predicción de precios de vehículos usados\".\n",
    "\n",
    "**Entrega**: La entrega del proyecto deberán realizarla durante la semana 4. Sin embargo, es importante que avancen en la semana 3 en el modelado del problema y en parte del informe, tal y como se les indicó en la guía.\n",
    "\n",
    "Para hacer la entrega, deberán adjuntar el informe autocontenido en PDF a la actividad de entrega del proyecto que encontrarán en la semana 4, y subir el archivo de predicciones a la [competencia de Kaggle](https://www.kaggle.com/competitions/miad2024-12-prediccion-precio-vehiculos)."
   ]
  },
  {
   "cell_type": "markdown",
   "metadata": {},
   "source": [
    "## Datos para la predicción de precios de vehículos usados\n",
    "\n",
    "En este proyecto se usará el conjunto de datos de Car Listings de Kaggle, donde cada observación representa el precio de un automóvil teniendo en cuenta distintas variables como: año, marca, modelo, entre otras. El objetivo es predecir el precio del automóvil. Para más detalles puede visitar el siguiente enlace: [datos](https://www.kaggle.com/jpayne/852k-used-car-listings)."
   ]
  },
  {
   "cell_type": "markdown",
   "metadata": {},
   "source": [
    "## Ejemplo predicción conjunto de test para envío a Kaggle\n",
    "\n",
    "En esta sección encontrarán el formato en el que deben guardar los resultados de la predicción para que puedan subirlos a la competencia en Kaggle."
   ]
  },
  {
   "cell_type": "code",
   "execution_count": 1,
   "metadata": {},
   "outputs": [
    {
     "name": "stdout",
     "output_type": "stream",
     "text": [
      "Python 3.10.5\n"
     ]
    }
   ],
   "source": [
    "import warnings\n",
    "warnings.filterwarnings('ignore')\n",
    "!python --version"
   ]
  },
  {
   "cell_type": "code",
   "execution_count": 2,
   "metadata": {},
   "outputs": [],
   "source": [
    "# Importación librerías\n",
    "import pandas as pd\n",
    "import numpy as np\n",
    "#import matplotlib.pyplot as plt\n",
    "#import seaborn as sns\n",
    "from sklearn import metrics\n",
    "# Librerías para Procesamiento de datos\n",
    "from sklearn.preprocessing import LabelEncoder\n",
    "from sklearn.utils import resample\n",
    "# Librerías para Modelos\n",
    "from sklearn.ensemble import RandomForestRegressor\n",
    "from sklearn.model_selection import GridSearchCV, cross_val_score, train_test_split\n",
    "from sklearn.metrics import mean_squared_error\n",
    "from xgboost import XGBRegressor\n",
    "import joblib"
   ]
  },
  {
   "cell_type": "code",
   "execution_count": 3,
   "metadata": {},
   "outputs": [],
   "source": [
    "# Carga de datos de archivo .csv\n",
    "dataTraining = pd.read_csv('https://raw.githubusercontent.com/davidzarruk/MIAD_ML_NLP_2023/main/datasets/dataTrain_carListings.zip')\n",
    "dataTesting = pd.read_csv('https://raw.githubusercontent.com/davidzarruk/MIAD_ML_NLP_2023/main/datasets/dataTest_carListings.zip', index_col=0)"
   ]
  },
  {
   "cell_type": "markdown",
   "metadata": {},
   "source": [
    "Preprocesamiento de Datos\n",
    "Tratamiento de Datos Dispersos"
   ]
  },
  {
   "cell_type": "code",
   "execution_count": null,
   "metadata": {},
   "outputs": [],
   "source": [
    "dataTraining_2 = dataTraining.copy()\n",
    "dataTesting_2 = dataTesting.copy()\n",
    "# Ajustando precio\n",
    "dataTraining_2['Price'] = np.log(dataTraining_2['Price'])\n",
    "# Ajustando Milage\n",
    "dataTraining_2['Mileage'] = np.log(dataTraining_2['Mileage'])\n",
    "dataTesting_2['Mileage'] = np.log(dataTesting_2['Mileage'])"
   ]
  },
  {
   "cell_type": "code",
   "execution_count": null,
   "metadata": {},
   "outputs": [],
   "source": [
    "# Aplicar label encoder en datos de Entrenamiento (fit_transform)\n",
    "\n",
    "X = dataTraining_2[['Year', 'Mileage', 'State', 'Make', 'Model']]\n",
    "le_State = LabelEncoder()\n",
    "le_Make = LabelEncoder()\n",
    "le_Model = LabelEncoder()\n",
    "X['State_encoded'] = le_State.fit_transform(X.State)\n",
    "X['Make_encoded'] = le_Make.fit_transform(X.Make)\n",
    "X['Model_encoded'] = le_Model.fit_transform(X.Model)\n",
    "X = X[['Year', 'Mileage', 'State_encoded', 'Make_encoded', 'Model_encoded']]\n",
    "y = dataTraining_2['Price']\n",
    "X_train, X_test, y_train, y_test = train_test_split(X, y, test_size=0.33, random_state=12)\n",
    "\n",
    "# Aplicar label encoder en datos de Evaluación para Kaggle (transform)\n",
    "data_X_Kaggle = dataTesting_2\n",
    "data_X_Kaggle['State_encoded'] = le_State.transform(data_X_Kaggle.State)\n",
    "data_X_Kaggle['Make_encoded'] = le_Make.transform(data_X_Kaggle.Make)\n",
    "data_X_Kaggle['Model_encoded'] = le_Model.transform(data_X_Kaggle.Model)\n",
    "data_X_Kaggle = data_X_Kaggle[['Year', 'Mileage', 'State_encoded', 'Make_encoded', 'Model_encoded']]"
   ]
  },
  {
   "cell_type": "markdown",
   "metadata": {},
   "source": [
    " Random Forest"
   ]
  },
  {
   "cell_type": "code",
   "execution_count": 8,
   "metadata": {},
   "outputs": [
    {
     "data": {
      "text/plain": [
       "['model_rf.pkl']"
      ]
     },
     "execution_count": 8,
     "metadata": {},
     "output_type": "execute_result"
    }
   ],
   "source": [
    "# Entrenamiento (fit) y desempeño del modelo RF_Regressor(4,750,20)\n",
    "reg_RF = RandomForestRegressor(max_features=4,n_estimators=100, max_depth=19, random_state=1, min_samples_split=17, n_jobs=-1)\n",
    "reg_RF.fit(X_train, y_train)\n",
    "y_pred_RF = reg_RF.predict(X_test)\n",
    "# Guardar el modelo entrenado\n",
    "joblib.dump(reg_RF, 'model_rf.pkl', compress=6)"
   ]
  },
  {
   "cell_type": "markdown",
   "metadata": {},
   "source": [
    "API"
   ]
  },
  {
   "cell_type": "code",
   "execution_count": 12,
   "metadata": {},
   "outputs": [
    {
     "name": "stdout",
     "output_type": "stream",
     "text": [
      " * Serving Flask app '__main__'\n",
      " * Debug mode: on\n"
     ]
    },
    {
     "name": "stderr",
     "output_type": "stream",
     "text": [
      "WARNING: This is a development server. Do not use it in a production deployment. Use a production WSGI server instead.\n",
      " * Running on all addresses (0.0.0.0)\n",
      " * Running on http://127.0.0.1:5000\n",
      " * Running on http://192.168.0.3:5000\n",
      "Press CTRL+C to quit\n",
      " * Restarting with stat\n"
     ]
    },
    {
     "ename": "SystemExit",
     "evalue": "1",
     "output_type": "error",
     "traceback": [
      "An exception has occurred, use %tb to see the full traceback.\n",
      "\u001b[1;31mSystemExit\u001b[0m\u001b[1;31m:\u001b[0m 1\n"
     ]
    }
   ],
   "source": [
    "from flask import Flask, request, jsonify\n",
    "import joblib\n",
    "import numpy as np\n",
    "\n",
    "# Cargar el modelo entrenado\n",
    "model = joblib.load('model_rf.pkl')\n",
    "\n",
    "app = Flask(__name__)\n",
    "\n",
    "@app.route('/predict', methods=['POST'])\n",
    "def predict():\n",
    "    data = request.get_json(force=True)\n",
    "    # Extraer características desde el JSON\n",
    "    features = [\n",
    "        data['Year'],\n",
    "        data['Mileage'],\n",
    "        data['State_encoded'],\n",
    "        data['Make_encoded'],\n",
    "        data['Model_encoded']\n",
    "    ]\n",
    "    \n",
    "    # Predecir el precio usando el modelo cargado\n",
    "    price_log = model.predict([features])[0]  # Suponiendo que el modelo espera una matriz 2D\n",
    "    price = np.exp(price_log)  # Convertir de log-precio a precio\n",
    "\n",
    "    # Devolver la predicción como un JSON\n",
    "    return jsonify({\n",
    "        'predicted_price': price\n",
    "    })\n",
    "\n",
    "if __name__ == '__main__':\n",
    "    app.run(debug=True, host='0.0.0.0', port=5000)"
   ]
  }
 ],
 "metadata": {
  "kernelspec": {
   "display_name": "Python 3 (ipykernel)",
   "language": "python",
   "name": "python3"
  },
  "language_info": {
   "codemirror_mode": {
    "name": "ipython",
    "version": 3
   },
   "file_extension": ".py",
   "mimetype": "text/x-python",
   "name": "python",
   "nbconvert_exporter": "python",
   "pygments_lexer": "ipython3",
   "version": "3.10.5"
  }
 },
 "nbformat": 4,
 "nbformat_minor": 4
}
