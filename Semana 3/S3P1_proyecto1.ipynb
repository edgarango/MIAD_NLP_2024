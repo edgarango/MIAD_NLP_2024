{
 "cells": [
  {
   "cell_type": "markdown",
   "metadata": {},
   "source": [
    "![image info](https://raw.githubusercontent.com/davidzarruk/MIAD_ML_NLP_2023/main/images/banner_1.png)"
   ]
  },
  {
   "cell_type": "markdown",
   "metadata": {},
   "source": [
    "# Proyecto 1 - Predicción de precios de vehículos usados\n",
    "\n",
    "En este proyecto podrán poner en práctica sus conocimientos sobre modelos predictivos basados en árboles y ensambles, y sobre la disponibilización de modelos. Para su desasrrollo tengan en cuenta las instrucciones dadas en la \"Guía del proyecto 1: Predicción de precios de vehículos usados\".\n",
    "\n",
    "**Entrega**: La entrega del proyecto deberán realizarla durante la semana 4. Sin embargo, es importante que avancen en la semana 3 en el modelado del problema y en parte del informe, tal y como se les indicó en la guía.\n",
    "\n",
    "Para hacer la entrega, deberán adjuntar el informe autocontenido en PDF a la actividad de entrega del proyecto que encontrarán en la semana 4, y subir el archivo de predicciones a la [competencia de Kaggle](https://www.kaggle.com/competitions/miad2024-12-prediccion-precio-vehiculos)."
   ]
  },
  {
   "cell_type": "markdown",
   "metadata": {},
   "source": [
    "## Datos para la predicción de precios de vehículos usados\n",
    "\n",
    "En este proyecto se usará el conjunto de datos de Car Listings de Kaggle, donde cada observación representa el precio de un automóvil teniendo en cuenta distintas variables como: año, marca, modelo, entre otras. El objetivo es predecir el precio del automóvil. Para más detalles puede visitar el siguiente enlace: [datos](https://www.kaggle.com/jpayne/852k-used-car-listings)."
   ]
  },
  {
   "cell_type": "markdown",
   "metadata": {},
   "source": [
    "## Ejemplo predicción conjunto de test para envío a Kaggle\n",
    "\n",
    "En esta sección encontrarán el formato en el que deben guardar los resultados de la predicción para que puedan subirlos a la competencia en Kaggle."
   ]
  },
  {
   "cell_type": "code",
   "execution_count": 1,
   "metadata": {},
   "outputs": [
    {
     "name": "stdout",
     "output_type": "stream",
     "text": [
      "Model trained and saved successfully.\n"
     ]
    }
   ],
   "source": [
    "import pandas as pd\n",
    "import numpy as np\n",
    "import joblib\n",
    "from sklearn.ensemble import RandomForestRegressor\n",
    "from sklearn.preprocessing import LabelEncoder\n",
    "from sklearn.model_selection import train_test_split\n",
    "import sys\n",
    "import os\n",
    "\n",
    "# Función para cargar datos\n",
    "def load_and_preprocess_data():\n",
    "    # Cargar datos\n",
    "    dataTraining = pd.read_csv('https://raw.githubusercontent.com/davidzarruk/MIAD_ML_NLP_2023/main/datasets/dataTrain_carListings.zip')\n",
    "    dataTraining['Price'] = np.log(dataTraining['Price'])\n",
    "    dataTraining['Mileage'] = np.log(dataTraining['Mileage'])\n",
    "\n",
    "    # Preparar características\n",
    "    X = dataTraining[['Year', 'Mileage', 'State', 'Make', 'Model']]\n",
    "    le_State = LabelEncoder()\n",
    "    le_Make = LabelEncoder()\n",
    "    le_Model = LabelEncoder()\n",
    "    X['State_encoded'] = le_State.fit_transform(X['State'])\n",
    "    X['Make_encoded'] = le_Make.fit_transform(X['Make'])\n",
    "    X['Model_encoded'] = le_Model.fit_transform(X['Model'])\n",
    "    X = X[['Year', 'Mileage', 'State_encoded', 'Make_encoded', 'Model_encoded']]\n",
    "    y = dataTraining['Price']\n",
    "\n",
    "    # Dividir datos\n",
    "    X_train, X_test, y_train, y_test = train_test_split(X, y, test_size=0.33, random_state=12)\n",
    "\n",
    "    # Guardar encoders para uso futuro\n",
    "    joblib.dump(le_State, 'le_State.pkl')\n",
    "    joblib.dump(le_Make, 'le_Make.pkl')\n",
    "    joblib.dump(le_Model, 'le_Model.pkl')\n",
    "\n",
    "    return X_train, X_test, y_train, y_test\n",
    "\n",
    "# Función para entrenar el modelo\n",
    "def train_model(X_train, y_train):\n",
    "    model = RandomForestRegressor(max_features=4, n_estimators=100, max_depth=19, random_state=1, min_samples_split=17, n_jobs=-1)\n",
    "    model.fit(X_train, y_train)\n",
    "    joblib.dump(model, 'model_rf.pkl', compress=3)  # Guardar el modelo\n",
    "    return model\n",
    "\n",
    "# Función para realizar predicciones\n",
    "def predict_price(features):\n",
    "    model = joblib.load('model_rf.pkl')\n",
    "    le_State = joblib.load('le_State.pkl')\n",
    "    le_Make = joblib.load('le_Make.pkl')\n",
    "    le_Model = joblib.load('le_Model.pkl')\n",
    "\n",
    "    # Codificar características entrantes\n",
    "    features['State'] = le_State.transform([features['State']])\n",
    "    features['Make'] = le_Make.transform([features['Make']])\n",
    "    features['Model'] = le_Model.transform([features['Model']])\n",
    "    features_df = pd.DataFrame([features])\n",
    "\n",
    "    # Realizar predicción\n",
    "    price_log = model.predict(features_df)[0]\n",
    "    price = np.exp(price_log)  # Convertir el precio logarítmico de vuelta a su forma original\n",
    "\n",
    "    return price\n",
    "\n",
    "# Si el script es el principal ejecutado, entrenar el modelo\n",
    "if __name__ == '__main__':\n",
    "    X_train, X_test, y_train, y_test = load_and_preprocess_data()\n",
    "    model = train_model(X_train, y_train)\n",
    "    print(\"Model trained and saved successfully.\")"
   ]
  },
  {
   "cell_type": "code",
   "execution_count": 2,
   "metadata": {},
   "outputs": [
    {
     "name": "stdout",
     "output_type": "stream",
     "text": [
      " * Serving Flask app '__main__'\n",
      " * Debug mode: on\n"
     ]
    },
    {
     "name": "stderr",
     "output_type": "stream",
     "text": [
      "WARNING: This is a development server. Do not use it in a production deployment. Use a production WSGI server instead.\n",
      " * Running on all addresses (0.0.0.0)\n",
      " * Running on http://127.0.0.1:5000\n",
      " * Running on http://192.168.0.3:5000\n",
      "Press CTRL+C to quit\n",
      "127.0.0.1 - - [01/May/2024 22:33:25] \"GET / HTTP/1.1\" 200 -\n",
      "127.0.0.1 - - [01/May/2024 22:33:25] \"GET /swaggerui/droid-sans.css HTTP/1.1\" 304 -\n",
      "127.0.0.1 - - [01/May/2024 22:33:25] \"GET /swaggerui/swagger-ui.css HTTP/1.1\" 304 -\n",
      "127.0.0.1 - - [01/May/2024 22:33:25] \"GET /swaggerui/swagger-ui-bundle.js HTTP/1.1\" 304 -\n",
      "127.0.0.1 - - [01/May/2024 22:33:25] \"GET /swaggerui/swagger-ui-standalone-preset.js HTTP/1.1\" 304 -\n",
      "127.0.0.1 - - [01/May/2024 22:33:26] \"GET /swagger.json HTTP/1.1\" 200 -\n"
     ]
    }
   ],
   "source": [
    "from flask import Flask\n",
    "from flask_restx import Api, Resource, fields\n",
    "import joblib\n",
    "from flask_cors import CORS\n",
    "from m09_model_deployment import predict_price\n",
    "\n",
    "# Inicia flask\n",
    "app = Flask(__name__)\n",
    "CORS(app)  # Enable CORS for all routes and origins\n",
    "\n",
    "# API\n",
    "api = Api(\n",
    "    app, \n",
    "    version='1.0', \n",
    "    title='Prediccion Precios Vehiculos',\n",
    "    description='API usa un modelo Random Forest para pedecir precios de vehiculos'\n",
    ")\n",
    "\n",
    "# Create a namespace\n",
    "ns = api.namespace('predict', description='Predice precios vehiculos')\n",
    "\n",
    "# Define the parser for incoming request arguments\n",
    "parser = api.parser()\n",
    "parser.add_argument(\n",
    "    'Year', \n",
    "    type=int, \n",
    "    required=True, \n",
    "    help='Year of the vehicle', \n",
    "    location='args')\n",
    "parser.add_argument(\n",
    "    'Mileage', \n",
    "    type=float, \n",
    "    required=True, \n",
    "    help='Mileage of the vehicle', \n",
    "    location='args')\n",
    "parser.add_argument(\n",
    "    'State_encoded', \n",
    "    type=int, \n",
    "    required=True, \n",
    "    help='Encoded state of vehicle registration', \n",
    "    location='args')\n",
    "parser.add_argument(\n",
    "    'Make_encoded', \n",
    "    type=int, \n",
    "    required=True, \n",
    "    help='Encoded make of the vehicle', \n",
    "    location='args')\n",
    "parser.add_argument(\n",
    "    'Model_encoded', \n",
    "    type=int, \n",
    "    required=True, \n",
    "    help='Encoded model of the vehicle', \n",
    "    location='args')\n",
    "\n",
    "# Define resource fields\n",
    "resource_fields = api.model('Resource', {\n",
    "    'predicted_price': fields.Float,\n",
    "})\n",
    "\n",
    "# Create a class for the prediction resource\n",
    "@ns.route('/')\n",
    "class VehiclePriceApi(Resource):\n",
    "    @api.doc(parser=parser)\n",
    "    @api.marshal_with(resource_fields)\n",
    "    def get(self):\n",
    "        # Extract query parameters\n",
    "        args = parser.parse_args()\n",
    "        # Use the imported function to predict the price\n",
    "        predicted_price = predict_price(**args)\n",
    "        # Return the predicted price\n",
    "        return {'predicted_price': predicted_price}\n",
    "\n",
    "if __name__ == '__main__':\n",
    "    app.run(debug=True, use_reloader=False, host='0.0.0.0', port=5000)\n"
   ]
  }
 ],
 "metadata": {
  "kernelspec": {
   "display_name": "Python 3 (ipykernel)",
   "language": "python",
   "name": "python3"
  },
  "language_info": {
   "codemirror_mode": {
    "name": "ipython",
    "version": 3
   },
   "file_extension": ".py",
   "mimetype": "text/x-python",
   "name": "python",
   "nbconvert_exporter": "python",
   "pygments_lexer": "ipython3",
   "version": "3.10.5"
  }
 },
 "nbformat": 4,
 "nbformat_minor": 4
}
